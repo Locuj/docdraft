{
 "cells": [
  {
   "cell_type": "code",
   "execution_count": 13,
   "id": "5bbde6d9",
   "metadata": {},
   "outputs": [],
   "source": [
    "# Base imports\n",
    "import sys\n",
    "sys.path.append('../')\n",
    "import numpy as np\n",
    "import pandas as pd\n",
    "from holisticai.formatting import pandas_to_numpy"
   ]
  },
  {
   "cell_type": "code",
   "execution_count": 4,
   "id": "817f7cae",
   "metadata": {},
   "outputs": [],
   "source": [
    "import holisticai"
   ]
  },
  {
   "cell_type": "code",
   "execution_count": 7,
   "id": "7dae7652",
   "metadata": {},
   "outputs": [],
   "source": [
    "from holisticai.bias.metrics import cluster_dist_l1"
   ]
  },
  {
   "cell_type": "code",
   "execution_count": 9,
   "id": "9abbc5c8",
   "metadata": {},
   "outputs": [],
   "source": [
    "?cluster_dist_l1"
   ]
  },
  {
   "cell_type": "code",
   "execution_count": 19,
   "id": "1eee19ca",
   "metadata": {},
   "outputs": [
    {
     "ename": "ImportError",
     "evalue": "cannot import name 'recommender_metric_ratio' from 'holisticai.bias.metrics' (/home/babe/src/holistic/WORKING/holisticai/examples/../holisticai/bias/metrics/__init__.py)",
     "output_type": "error",
     "traceback": [
      "\u001b[0;31m---------------------------------------------------------------------------\u001b[0m",
      "\u001b[0;31mImportError\u001b[0m                               Traceback (most recent call last)",
      "Input \u001b[0;32mIn [19]\u001b[0m, in \u001b[0;36m<cell line: 1>\u001b[0;34m()\u001b[0m\n\u001b[0;32m----> 1\u001b[0m \u001b[38;5;28;01mfrom\u001b[39;00m \u001b[38;5;21;01mholisticai\u001b[39;00m\u001b[38;5;21;01m.\u001b[39;00m\u001b[38;5;21;01mbias\u001b[39;00m\u001b[38;5;21;01m.\u001b[39;00m\u001b[38;5;21;01mmetrics\u001b[39;00m \u001b[38;5;28;01mimport\u001b[39;00m recommender_metric_ratio\n",
      "\u001b[0;31mImportError\u001b[0m: cannot import name 'recommender_metric_ratio' from 'holisticai.bias.metrics' (/home/babe/src/holistic/WORKING/holisticai/examples/../holisticai/bias/metrics/__init__.py)"
     ]
    }
   ],
   "source": [
    "from holisticai.bias.metrics import recommender_metric_ratio"
   ]
  }
 ],
 "metadata": {
  "kernelspec": {
   "display_name": "Python 3 (ipykernel)",
   "language": "python",
   "name": "python3"
  },
  "language_info": {
   "codemirror_mode": {
    "name": "ipython",
    "version": 3
   },
   "file_extension": ".py",
   "mimetype": "text/x-python",
   "name": "python",
   "nbconvert_exporter": "python",
   "pygments_lexer": "ipython3",
   "version": "3.10.4"
  }
 },
 "nbformat": 4,
 "nbformat_minor": 5
}
