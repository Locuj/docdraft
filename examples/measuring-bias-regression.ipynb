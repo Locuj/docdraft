{
 "cells": [
  {
   "cell_type": "markdown",
   "metadata": {},
   "source": [
    "## Base imports"
   ]
  },
  {
   "cell_type": "code",
   "execution_count": 123,
   "metadata": {
    "colab": {
     "base_uri": "https://localhost:8080/"
    },
    "id": "ePoS2ium8_vF",
    "outputId": "d2ebb0dc-0c53-427a-be3e-f2cf00c56170"
   },
   "outputs": [],
   "source": [
    "import sklearn\n",
    "import pandas as pd\n",
    "import numpy as np\n",
    "\n",
    "from sklearn.model_selection import train_test_split\n",
    "from sklearn.linear_model import LinearRegression\n",
    "from sklearn.preprocessing import OneHotEncoder\n",
    "from sklearn.preprocessing import StandardScaler\n",
    "from sklearn.preprocessing import Normalizer\n",
    "\n",
    "import sys\n",
    "sys.path.append('../../holisticai')"
   ]
  },
  {
   "cell_type": "code",
   "execution_count": 124,
   "metadata": {},
   "outputs": [],
   "source": [
    "def load_student_data():\n",
    "    import requests, zipfile\n",
    "    requests.get('https://archive.ics.uci.edu/ml/machine-learning-databases/00320/student.zip')\n",
    "    with zipfile.ZipFile('./student.zip', 'r') as zip_ref:\n",
    "        zip_ref.extractall('.')\n",
    "        \n",
    "    data = pd.read_csv('student-mat.csv',delimiter=';')\n",
    "\n",
    "    return data\n",
    "\n",
    "def preprocess_data(data):\n",
    "    \n",
    "    categoricals = []\n",
    "    for col in data.columns:\n",
    "        if col != 'G3' and col!='sex' and data[col].dtype == object:\n",
    "            categoricals.append(col)\n",
    "\n",
    "    cat_encoder = OneHotEncoder()  \n",
    "    enc = cat_encoder.fit_transform(data[categoricals])\n",
    "    enc = pd.DataFrame(enc.toarray())\n",
    "    df = pd.concat([data,enc],axis=1).drop(columns=categoricals) # add encoded columns\n",
    "    \n",
    "    df = df.rename(str, axis='columns')\n",
    "    return df"
   ]
  },
  {
   "cell_type": "markdown",
   "metadata": {
    "id": "rkJiVjicB8B8"
   },
   "source": [
    "# Measuring bias\n",
    "\n",
    "## Loading"
   ]
  },
  {
   "cell_type": "code",
   "execution_count": 125,
   "metadata": {
    "id": "TQhqCl6DNa0C"
   },
   "outputs": [],
   "source": [
    "# Load data and split for training\n",
    "data = load_student_data()\n",
    "data = preprocess_data(data)\n",
    "\n",
    "train, test = train_test_split(data, test_size=0.3,random_state=42)\n",
    "\n",
    "# G3 is the students final grade\n",
    "X_train = train.drop(columns=['G3'])\n",
    "X_test = test.drop(columns=['G3'])\n",
    "y_train = train['G3']\n",
    "y_test = test['G3']\n",
    "\n",
    "# Train a simple linear model\n",
    "LR = LinearRegression()\n",
    "model = LR.fit(X_train.drop(columns=['sex']), y_train)\n",
    "\n",
    "# Predict some values\n",
    "y_pred = model.predict(X_test.drop(columns=['sex']))"
   ]
  },
  {
   "cell_type": "markdown",
   "metadata": {},
   "source": [
    "### Bias analysis"
   ]
  },
  {
   "cell_type": "code",
   "execution_count": 112,
   "metadata": {},
   "outputs": [
    {
     "data": {
      "text/html": [
       "<div>\n",
       "<style scoped>\n",
       "    .dataframe tbody tr th:only-of-type {\n",
       "        vertical-align: middle;\n",
       "    }\n",
       "\n",
       "    .dataframe tbody tr th {\n",
       "        vertical-align: top;\n",
       "    }\n",
       "\n",
       "    .dataframe thead th {\n",
       "        text-align: right;\n",
       "    }\n",
       "</style>\n",
       "<table border=\"1\" class=\"dataframe\">\n",
       "  <thead>\n",
       "    <tr style=\"text-align: right;\">\n",
       "      <th></th>\n",
       "      <th>Value</th>\n",
       "      <th>Reference</th>\n",
       "    </tr>\n",
       "    <tr>\n",
       "      <th>Metric</th>\n",
       "      <th></th>\n",
       "      <th></th>\n",
       "    </tr>\n",
       "  </thead>\n",
       "  <tbody>\n",
       "    <tr>\n",
       "      <th>Disparate Impact Q90</th>\n",
       "      <td>4.754098</td>\n",
       "      <td>0</td>\n",
       "    </tr>\n",
       "    <tr>\n",
       "      <th>Disparate Impact Q80</th>\n",
       "      <td>1.901639</td>\n",
       "      <td>0</td>\n",
       "    </tr>\n",
       "    <tr>\n",
       "      <th>Disparate Impact Q50</th>\n",
       "      <td>1.331148</td>\n",
       "      <td>0</td>\n",
       "    </tr>\n",
       "    <tr>\n",
       "      <th>No Disparate Impact Level</th>\n",
       "      <td>12.633841</td>\n",
       "      <td>-</td>\n",
       "    </tr>\n",
       "    <tr>\n",
       "      <th>Average Score Difference</th>\n",
       "      <td>1.786258</td>\n",
       "      <td>0</td>\n",
       "    </tr>\n",
       "    <tr>\n",
       "      <th>Average Score Difference Q80</th>\n",
       "      <td>1.267822</td>\n",
       "      <td>0</td>\n",
       "    </tr>\n",
       "    <tr>\n",
       "      <th>Z Score Difference</th>\n",
       "      <td>0.413114</td>\n",
       "      <td>0</td>\n",
       "    </tr>\n",
       "    <tr>\n",
       "      <th>Z Score Difference Q80</th>\n",
       "      <td>0.655295</td>\n",
       "      <td>0</td>\n",
       "    </tr>\n",
       "    <tr>\n",
       "      <th>Max Statistical Parity</th>\n",
       "      <td>0.199830</td>\n",
       "      <td>0</td>\n",
       "    </tr>\n",
       "    <tr>\n",
       "      <th>Statistical Parity AUC</th>\n",
       "      <td>0.106620</td>\n",
       "      <td>0</td>\n",
       "    </tr>\n",
       "    <tr>\n",
       "      <th>Weighed Statistical Parity AUC</th>\n",
       "      <td>0.108083</td>\n",
       "      <td>0</td>\n",
       "    </tr>\n",
       "    <tr>\n",
       "      <th>RMSE Ratio</th>\n",
       "      <td>0.709564</td>\n",
       "      <td>1</td>\n",
       "    </tr>\n",
       "    <tr>\n",
       "      <th>MAE Ratio</th>\n",
       "      <td>0.803945</td>\n",
       "      <td>1</td>\n",
       "    </tr>\n",
       "    <tr>\n",
       "      <th>RMSE Ratio Q80</th>\n",
       "      <td>1.382500</td>\n",
       "      <td>1</td>\n",
       "    </tr>\n",
       "    <tr>\n",
       "      <th>MAE Ratio Q80</th>\n",
       "      <td>1.628607</td>\n",
       "      <td>1</td>\n",
       "    </tr>\n",
       "  </tbody>\n",
       "</table>\n",
       "</div>"
      ],
      "text/plain": [
       "                                    Value Reference\n",
       "Metric                                             \n",
       "Disparate Impact Q90             4.754098         0\n",
       "Disparate Impact Q80             1.901639         0\n",
       "Disparate Impact Q50             1.331148         0\n",
       "No Disparate Impact Level       12.633841         -\n",
       "Average Score Difference         1.786258         0\n",
       "Average Score Difference Q80     1.267822         0\n",
       "Z Score Difference               0.413114         0\n",
       "Z Score Difference Q80           0.655295         0\n",
       "Max Statistical Parity           0.199830         0\n",
       "Statistical Parity AUC           0.106620         0\n",
       "Weighed Statistical Parity AUC   0.108083         0\n",
       "RMSE Ratio                       0.709564         1\n",
       "MAE Ratio                        0.803945         1\n",
       "RMSE Ratio Q80                   1.382500         1\n",
       "MAE Ratio Q80                    1.628607         1"
      ]
     },
     "execution_count": 112,
     "metadata": {},
     "output_type": "execute_result"
    }
   ],
   "source": [
    "from holisticai.bias.metrics import regression_bias_metrics\n",
    "\n",
    "group_a = X_test['sex']=='M'\n",
    "group_b = X_test['sex']=='F'\n",
    "\n",
    "regression_bias_metrics(group_a, group_b, y_pred, y_test)"
   ]
  }
 ],
 "metadata": {
  "colab": {
   "collapsed_sections": [
    "THYXrjvTCn8H"
   ],
   "name": "Measuring_Bias_Regression_3.ipynb",
   "provenance": []
  },
  "kernelspec": {
   "display_name": "Python 3 (ipykernel)",
   "language": "python",
   "name": "python3"
  },
  "language_info": {
   "codemirror_mode": {
    "name": "ipython",
    "version": 3
   },
   "file_extension": ".py",
   "mimetype": "text/x-python",
   "name": "python",
   "nbconvert_exporter": "python",
   "pygments_lexer": "ipython3",
   "version": "3.10.4"
  }
 },
 "nbformat": 4,
 "nbformat_minor": 1
}
